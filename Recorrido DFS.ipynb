{
  "nbformat": 4,
  "nbformat_minor": 0,
  "metadata": {
    "colab": {
      "name": "Grafo.ipynb",
      "provenance": [],
      "authorship_tag": "ABX9TyO0XzWW6x//lfripkFR6hsN",
      "include_colab_link": true
    },
    "kernelspec": {
      "name": "python3",
      "display_name": "Python 3"
    },
    "language_info": {
      "name": "python"
    }
  },
  "cells": [
    {
      "cell_type": "markdown",
      "metadata": {
        "id": "view-in-github",
        "colab_type": "text"
      },
      "source": [
        "<a href=\"https://colab.research.google.com/github/Ivanc110694/Grafos/blob/main/Recorrido%20DFS.ipynb\" target=\"_parent\"><img src=\"https://colab.research.google.com/assets/colab-badge.svg\" alt=\"Open In Colab\"/></a>"
      ]
    },
    {
      "cell_type": "code",
      "execution_count": 63,
      "metadata": {
        "id": "5gxT2jGKGgNX"
      },
      "outputs": [],
      "source": [
        "import graphviz as gv"
      ]
    },
    {
      "cell_type": "code",
      "source": [
        "#Leer Archivo\n",
        "def rl(ar,et=False,w=False,s=\"|\"):\n",
        "  with open(ar) as f:\n",
        "    la = None\n",
        "    if et:\n",
        "      la = f.readline().strip().split()\n",
        "    L = []\n",
        "    for l in f:\n",
        "      if w:\n",
        "        L.append([tuple(map(int,s.split()))for s in l.strip().split()])\n",
        "      else:\n",
        "        L.append(list(map(int,l.strip().split())))\n",
        "  return L,la"
      ],
      "metadata": {
        "id": "BzGpdEeqGvyF"
      },
      "execution_count": 64,
      "outputs": []
    },
    {
      "cell_type": "code",
      "source": [
        "#Mostrar Grafo -> representación lista de adyacencia\n",
        "def Sl(L,l = None,d=False,w=False,p=[], Ge = {'layout': 'sfdp'},\n",
        "       no = {'color': 'orangered'},ed={'color':'blue'}):\n",
        "  if d:\n",
        "    g = gv.Digraph(\"G\")\n",
        "  else:\n",
        "    g = gv.Graph(\"G\")\n",
        "  g.attr(**Ge)\n",
        "  n = len(L)\n",
        "  for u in range(n):\n",
        "    g.node(str(u),l[u] if l else str(u),**no)\n",
        "  n_r = []\n",
        "  for v,u in enumerate(p):\n",
        "    if u!=None:\n",
        "      if w:\n",
        "        for vi,w in L[u]:\n",
        "          if vi == v:\n",
        "            break\n",
        "        g.edge(str(u),str(v),str(w),dir=\"forward\",pendwith=\"2\",color=\"green\")\n",
        "      else:\n",
        "        g.edge(str(u),str(v),dir=\"forward\",pendwith=\"2\",color=\"green\")\n",
        "      n_r.append(f\"{u},{v}\");n_r.append(f\"{v},{u}\")\n",
        "  if w:\n",
        "    for u in range(n):\n",
        "      for v,w in L[u]:\n",
        "        if not d and not f\"{u},{v}\" in n_r:\n",
        "          n_r.append(f\"{u},{v}\");n_r.append(f\"{v},{v}\")\n",
        "          g.edge(str(u),str(v),str(w),**ed)\n",
        "        elif d and not f\"{u},{v}\" in n_r:\n",
        "          n_r.append(f\"{u},{v}\");n_r.append(f\"{v},{u}\")\n",
        "          g.edge(str(u),str(v),str(w),**ed)\n",
        "  else:\n",
        "    for u in range(n):\n",
        "      for v in L[u]:\n",
        "        if not d and not f\"{u},{v}\" in n_r:\n",
        "          n_r.append(f\"{u},{v}\");n_r.append(f\"{v},{u}\")\n",
        "          g.edge(str(u),str(v),**ed)\n",
        "        elif d and not f\"{u},{v}\" in n_r:\n",
        "          n_r.append(f\"{u},{v}\");n_r.append(f\"{v},{u}\")\n",
        "          g.edge(str(u),str(v),**ed)\n",
        "  return g"
      ],
      "metadata": {
        "id": "k22jy28YHink"
      },
      "execution_count": 65,
      "outputs": []
    },
    {
      "cell_type": "code",
      "source": [
        "%%file 1.AdjL\n",
        "3 4\n",
        "3 5\n",
        "5 6\n",
        "0 1 7\n",
        "0 6 7\n",
        "1 2\n",
        "2 4 7\n",
        "3 4 6"
      ],
      "metadata": {
        "colab": {
          "base_uri": "https://localhost:8080/"
        },
        "id": "514eiagsKjDf",
        "outputId": "bf2c9ebc-3a2a-4457-c013-7d9699e74c14"
      },
      "execution_count": 66,
      "outputs": [
        {
          "output_type": "stream",
          "name": "stdout",
          "text": [
            "Overwriting 1.AdjL\n"
          ]
        }
      ]
    },
    {
      "cell_type": "code",
      "source": [
        "L,_=rl(\"1.AdjL\")\n",
        "for n,a in enumerate(L):\n",
        "  print(f\"{n}: {a}\")"
      ],
      "metadata": {
        "colab": {
          "base_uri": "https://localhost:8080/"
        },
        "id": "5BZ3ytyAKz7o",
        "outputId": "d4a78ab4-b19a-4ec5-abe8-1a42192e8c1b"
      },
      "execution_count": 67,
      "outputs": [
        {
          "output_type": "stream",
          "name": "stdout",
          "text": [
            "0: [3, 4]\n",
            "1: [3, 5]\n",
            "2: [5, 6]\n",
            "3: [0, 1, 7]\n",
            "4: [0, 6, 7]\n",
            "5: [1, 2]\n",
            "6: [2, 4, 7]\n",
            "7: [3, 4, 6]\n"
          ]
        }
      ]
    },
    {
      "cell_type": "code",
      "source": [
        "Sl(L)"
      ],
      "metadata": {
        "colab": {
          "base_uri": "https://localhost:8080/",
          "height": 508
        },
        "id": "onetc-V5LCUw",
        "outputId": "361e79e8-2df1-4e52-939c-00f99fd1d029"
      },
      "execution_count": 68,
      "outputs": [
        {
          "output_type": "execute_result",
          "data": {
            "text/plain": [
              "<graphviz.dot.Graph at 0x7ff9056140d0>"
            ],
            "image/svg+xml": "<?xml version=\"1.0\" encoding=\"UTF-8\" standalone=\"no\"?>\n<!DOCTYPE svg PUBLIC \"-//W3C//DTD SVG 1.1//EN\"\n \"http://www.w3.org/Graphics/SVG/1.1/DTD/svg11.dtd\">\n<!-- Generated by graphviz version 2.40.1 (20161225.0304)\n -->\n<!-- Title: G Pages: 1 -->\n<svg width=\"562pt\" height=\"365pt\"\n viewBox=\"0.00 0.00 561.84 365.14\" xmlns=\"http://www.w3.org/2000/svg\" xmlns:xlink=\"http://www.w3.org/1999/xlink\">\n<g id=\"graph0\" class=\"graph\" transform=\"scale(1 1) rotate(0) translate(4 361.1385)\">\n<title>G</title>\n<polygon fill=\"#ffffff\" stroke=\"transparent\" points=\"-4,4 -4,-361.1385 557.8422,-361.1385 557.8422,4 -4,4\"/>\n<!-- 0 -->\n<g id=\"node1\" class=\"node\">\n<title>0</title>\n<ellipse fill=\"none\" stroke=\"#ff4500\" cx=\"27\" cy=\"-260.1639\" rx=\"27\" ry=\"18\"/>\n<text text-anchor=\"middle\" x=\"27\" y=\"-256.4639\" font-family=\"Times,serif\" font-size=\"14.00\" fill=\"#000000\">0</text>\n</g>\n<!-- 3 -->\n<g id=\"node4\" class=\"node\">\n<title>3</title>\n<ellipse fill=\"none\" stroke=\"#ff4500\" cx=\"202.7125\" cy=\"-316.275\" rx=\"27\" ry=\"18\"/>\n<text text-anchor=\"middle\" x=\"202.7125\" y=\"-312.575\" font-family=\"Times,serif\" font-size=\"14.00\" fill=\"#000000\">3</text>\n</g>\n<!-- 0&#45;&#45;3 -->\n<g id=\"edge1\" class=\"edge\">\n<title>0&#45;&#45;3</title>\n<path fill=\"none\" stroke=\"#0000ff\" d=\"M51.4321,-267.9659C84.9081,-278.656 144.6899,-297.7464 178.2053,-308.449\"/>\n</g>\n<!-- 4 -->\n<g id=\"node5\" class=\"node\">\n<title>4</title>\n<ellipse fill=\"none\" stroke=\"#ff4500\" cx=\"67.0004\" cy=\"-86.2765\" rx=\"27\" ry=\"18\"/>\n<text text-anchor=\"middle\" x=\"67.0004\" y=\"-82.5765\" font-family=\"Times,serif\" font-size=\"14.00\" fill=\"#000000\">4</text>\n</g>\n<!-- 0&#45;&#45;4 -->\n<g id=\"edge2\" class=\"edge\">\n<title>0&#45;&#45;4</title>\n<path fill=\"none\" stroke=\"#0000ff\" d=\"M31.1301,-242.2098C38.8151,-208.8021 55.2249,-137.4665 62.8928,-104.1329\"/>\n</g>\n<!-- 1 -->\n<g id=\"node2\" class=\"node\">\n<title>1</title>\n<ellipse fill=\"none\" stroke=\"#ff4500\" cx=\"404.8738\" cy=\"-339.1385\" rx=\"27\" ry=\"18\"/>\n<text text-anchor=\"middle\" x=\"404.8738\" y=\"-335.4385\" font-family=\"Times,serif\" font-size=\"14.00\" fill=\"#000000\">1</text>\n</g>\n<!-- 1&#45;&#45;3 -->\n<g id=\"edge3\" class=\"edge\">\n<title>1&#45;&#45;3</title>\n<path fill=\"none\" stroke=\"#0000ff\" d=\"M378.0284,-336.1024C339.2548,-331.7173 268.0023,-323.659 229.347,-319.2872\"/>\n</g>\n<!-- 5 -->\n<g id=\"node6\" class=\"node\">\n<title>5</title>\n<ellipse fill=\"none\" stroke=\"#ff4500\" cx=\"526.8422\" cy=\"-202.0007\" rx=\"27\" ry=\"18\"/>\n<text text-anchor=\"middle\" x=\"526.8422\" y=\"-198.3007\" font-family=\"Times,serif\" font-size=\"14.00\" fill=\"#000000\">5</text>\n</g>\n<!-- 1&#45;&#45;5 -->\n<g id=\"edge4\" class=\"edge\">\n<title>1&#45;&#45;5</title>\n<path fill=\"none\" stroke=\"#0000ff\" d=\"M418.8651,-323.407C442.3924,-296.9536 489.5968,-243.8784 513.0141,-217.5487\"/>\n</g>\n<!-- 2 -->\n<g id=\"node3\" class=\"node\">\n<title>2</title>\n<ellipse fill=\"none\" stroke=\"#ff4500\" cx=\"444.1607\" cy=\"-39.916\" rx=\"27\" ry=\"18\"/>\n<text text-anchor=\"middle\" x=\"444.1607\" y=\"-36.216\" font-family=\"Times,serif\" font-size=\"14.00\" fill=\"#000000\">2</text>\n</g>\n<!-- 2&#45;&#45;5 -->\n<g id=\"edge5\" class=\"edge\">\n<title>2&#45;&#45;5</title>\n<path fill=\"none\" stroke=\"#0000ff\" d=\"M453.009,-57.2619C468.9229,-88.4587 502.19,-153.6737 518.0575,-184.7795\"/>\n</g>\n<!-- 6 -->\n<g id=\"node7\" class=\"node\">\n<title>6</title>\n<ellipse fill=\"none\" stroke=\"#ff4500\" cx=\"243.9635\" cy=\"-18\" rx=\"27\" ry=\"18\"/>\n<text text-anchor=\"middle\" x=\"243.9635\" y=\"-14.3\" font-family=\"Times,serif\" font-size=\"14.00\" fill=\"#000000\">6</text>\n</g>\n<!-- 2&#45;&#45;6 -->\n<g id=\"edge6\" class=\"edge\">\n<title>2&#45;&#45;6</title>\n<path fill=\"none\" stroke=\"#0000ff\" d=\"M417.1612,-36.9603C378.8455,-32.7658 309.1103,-25.1318 270.8542,-20.9438\"/>\n</g>\n<!-- 7 -->\n<g id=\"node8\" class=\"node\">\n<title>7</title>\n<ellipse fill=\"none\" stroke=\"#ff4500\" cx=\"172.3575\" cy=\"-149.8867\" rx=\"27\" ry=\"18\"/>\n<text text-anchor=\"middle\" x=\"172.3575\" y=\"-146.1867\" font-family=\"Times,serif\" font-size=\"14.00\" fill=\"#000000\">7</text>\n</g>\n<!-- 3&#45;&#45;7 -->\n<g id=\"edge7\" class=\"edge\">\n<title>3&#45;&#45;7</title>\n<path fill=\"none\" stroke=\"#0000ff\" d=\"M199.4062,-298.1518C193.5671,-266.1455 181.4958,-199.9779 175.6597,-167.9875\"/>\n</g>\n<!-- 4&#45;&#45;6 -->\n<g id=\"edge8\" class=\"edge\">\n<title>4&#45;&#45;6</title>\n<path fill=\"none\" stroke=\"#0000ff\" d=\"M90.4998,-77.2099C124.3464,-64.1511 186.4664,-40.1838 220.367,-27.1041\"/>\n</g>\n<!-- 4&#45;&#45;7 -->\n<g id=\"edge9\" class=\"edge\">\n<title>4&#45;&#45;7</title>\n<path fill=\"none\" stroke=\"#0000ff\" d=\"M87.3143,-98.5412C105.9707,-109.8051 133.4693,-126.4076 152.1059,-137.6596\"/>\n</g>\n<!-- 6&#45;&#45;7 -->\n<g id=\"edge10\" class=\"edge\">\n<title>6&#45;&#45;7</title>\n<path fill=\"none\" stroke=\"#0000ff\" d=\"M234.7489,-34.9719C221.0751,-60.1567 195.5479,-107.1737 181.7641,-132.5611\"/>\n</g>\n</g>\n</svg>\n"
          },
          "metadata": {},
          "execution_count": 68
        }
      ]
    },
    {
      "cell_type": "code",
      "source": [
        "def DFS(G,S):\n",
        "  n = len(G)\n",
        "  visited = [0]*n\n",
        "  parent = [None]*n\n",
        "\n",
        "  def _DFS(u:int):\n",
        "    visited[u] = 1\n",
        "    for v in G[u]:\n",
        "      if visited[v] == 0:\n",
        "        parent[v] = u\n",
        "        _DFS(v)\n",
        "  _DFS(S)\n",
        "  return parent"
      ],
      "metadata": {
        "id": "dKBGcFpMUB-D"
      },
      "execution_count": 69,
      "outputs": []
    },
    {
      "cell_type": "code",
      "source": [
        "path= DFS(L,0)\n",
        "print(path)\n",
        "Sl(L,p=path)"
      ],
      "metadata": {
        "colab": {
          "base_uri": "https://localhost:8080/",
          "height": 525
        },
        "id": "pCU30J5TUgx6",
        "outputId": "628f5c6e-809b-4354-a0cb-e1a9ad0ea5ee"
      },
      "execution_count": 71,
      "outputs": [
        {
          "output_type": "stream",
          "name": "stdout",
          "text": [
            "[None, 3, 5, 0, 6, 1, 2, 4]\n"
          ]
        },
        {
          "output_type": "execute_result",
          "data": {
            "text/plain": [
              "<graphviz.dot.Graph at 0x7ff90561d810>"
            ],
            "image/svg+xml": "<?xml version=\"1.0\" encoding=\"UTF-8\" standalone=\"no\"?>\n<!DOCTYPE svg PUBLIC \"-//W3C//DTD SVG 1.1//EN\"\n \"http://www.w3.org/Graphics/SVG/1.1/DTD/svg11.dtd\">\n<!-- Generated by graphviz version 2.40.1 (20161225.0304)\n -->\n<!-- Title: G Pages: 1 -->\n<svg width=\"562pt\" height=\"365pt\"\n viewBox=\"0.00 0.00 561.93 364.99\" xmlns=\"http://www.w3.org/2000/svg\" xmlns:xlink=\"http://www.w3.org/1999/xlink\">\n<g id=\"graph0\" class=\"graph\" transform=\"scale(1 1) rotate(0) translate(4 360.9903)\">\n<title>G</title>\n<polygon fill=\"#ffffff\" stroke=\"transparent\" points=\"-4,4 -4,-360.9903 557.926,-360.9903 557.926,4 -4,4\"/>\n<!-- 0 -->\n<g id=\"node1\" class=\"node\">\n<title>0</title>\n<ellipse fill=\"none\" stroke=\"#ff4500\" cx=\"526.926\" cy=\"-97.1913\" rx=\"27\" ry=\"18\"/>\n<text text-anchor=\"middle\" x=\"526.926\" y=\"-93.4913\" font-family=\"Times,serif\" font-size=\"14.00\" fill=\"#000000\">0</text>\n</g>\n<!-- 3 -->\n<g id=\"node4\" class=\"node\">\n<title>3</title>\n<ellipse fill=\"none\" stroke=\"#ff4500\" cx=\"351.428\" cy=\"-41.0068\" rx=\"27\" ry=\"18\"/>\n<text text-anchor=\"middle\" x=\"351.428\" y=\"-37.3068\" font-family=\"Times,serif\" font-size=\"14.00\" fill=\"#000000\">3</text>\n</g>\n<!-- 0&#45;&#45;3 -->\n<g id=\"edge3\" class=\"edge\">\n<title>0&#45;&#45;3</title>\n<path fill=\"none\" stroke=\"#00ff00\" d=\"M502.5237,-89.3791C472.0925,-79.6367 419.8966,-62.9265 385.5249,-51.9227\"/>\n<polygon fill=\"#00ff00\" stroke=\"#00ff00\" points=\"386.4963,-48.5587 375.9053,-48.843 384.3619,-55.2254 386.4963,-48.5587\"/>\n</g>\n<!-- 4 -->\n<g id=\"node5\" class=\"node\">\n<title>4</title>\n<ellipse fill=\"none\" stroke=\"#ff4500\" cx=\"486.575\" cy=\"-271.1363\" rx=\"27\" ry=\"18\"/>\n<text text-anchor=\"middle\" x=\"486.575\" y=\"-267.4363\" font-family=\"Times,serif\" font-size=\"14.00\" fill=\"#000000\">4</text>\n</g>\n<!-- 0&#45;&#45;4 -->\n<g id=\"edge8\" class=\"edge\">\n<title>0&#45;&#45;4</title>\n<path fill=\"none\" stroke=\"#0000ff\" d=\"M522.7597,-115.1513C515.0073,-148.5701 498.4538,-219.9293 490.7186,-253.274\"/>\n</g>\n<!-- 1 -->\n<g id=\"node2\" class=\"node\">\n<title>1</title>\n<ellipse fill=\"none\" stroke=\"#ff4500\" cx=\"149.5288\" cy=\"-18\" rx=\"27\" ry=\"18\"/>\n<text text-anchor=\"middle\" x=\"149.5288\" y=\"-14.3\" font-family=\"Times,serif\" font-size=\"14.00\" fill=\"#000000\">1</text>\n</g>\n<!-- 5 -->\n<g id=\"node6\" class=\"node\">\n<title>5</title>\n<ellipse fill=\"none\" stroke=\"#ff4500\" cx=\"27\" cy=\"-154.3683\" rx=\"27\" ry=\"18\"/>\n<text text-anchor=\"middle\" x=\"27\" y=\"-150.6683\" font-family=\"Times,serif\" font-size=\"14.00\" fill=\"#000000\">5</text>\n</g>\n<!-- 1&#45;&#45;5 -->\n<g id=\"edge5\" class=\"edge\">\n<title>1&#45;&#45;5</title>\n<path fill=\"none\" stroke=\"#00ff00\" d=\"M135.4732,-33.6432C113.9613,-57.5848 72.7456,-103.4558 47.7765,-131.2452\"/>\n<polygon fill=\"#00ff00\" stroke=\"#00ff00\" points=\"44.9718,-129.1299 40.8917,-138.9076 50.1787,-133.8084 44.9718,-129.1299\"/>\n</g>\n<!-- 2 -->\n<g id=\"node3\" class=\"node\">\n<title>2</title>\n<ellipse fill=\"none\" stroke=\"#ff4500\" cx=\"108.8699\" cy=\"-317.0289\" rx=\"27\" ry=\"18\"/>\n<text text-anchor=\"middle\" x=\"108.8699\" y=\"-313.3289\" font-family=\"Times,serif\" font-size=\"14.00\" fill=\"#000000\">2</text>\n</g>\n<!-- 6 -->\n<g id=\"node7\" class=\"node\">\n<title>6</title>\n<ellipse fill=\"none\" stroke=\"#ff4500\" cx=\"309.0949\" cy=\"-338.9903\" rx=\"27\" ry=\"18\"/>\n<text text-anchor=\"middle\" x=\"309.0949\" y=\"-335.2903\" font-family=\"Times,serif\" font-size=\"14.00\" fill=\"#000000\">6</text>\n</g>\n<!-- 2&#45;&#45;6 -->\n<g id=\"edge6\" class=\"edge\">\n<title>2&#45;&#45;6</title>\n<path fill=\"none\" stroke=\"#00ff00\" d=\"M135.8731,-319.9907C171.0507,-323.8491 232.708,-330.6119 272.1837,-334.9417\"/>\n<polygon fill=\"#00ff00\" stroke=\"#00ff00\" points=\"271.8785,-338.4291 282.2005,-336.0404 272.6417,-331.4709 271.8785,-338.4291\"/>\n</g>\n<!-- 3&#45;&#45;1 -->\n<g id=\"edge1\" class=\"edge\">\n<title>3&#45;&#45;1</title>\n<path fill=\"none\" stroke=\"#00ff00\" d=\"M324.6174,-37.9517C289.1691,-33.9123 226.5386,-26.7754 186.583,-22.2224\"/>\n<polygon fill=\"#00ff00\" stroke=\"#00ff00\" points=\"186.7823,-18.7225 176.4503,-21.0678 185.9897,-25.6775 186.7823,-18.7225\"/>\n</g>\n<!-- 7 -->\n<g id=\"node8\" class=\"node\">\n<title>7</title>\n<ellipse fill=\"none\" stroke=\"#ff4500\" cx=\"381.2269\" cy=\"-207.8825\" rx=\"27\" ry=\"18\"/>\n<text text-anchor=\"middle\" x=\"381.2269\" y=\"-204.1825\" font-family=\"Times,serif\" font-size=\"14.00\" fill=\"#000000\">7</text>\n</g>\n<!-- 3&#45;&#45;7 -->\n<g id=\"edge9\" class=\"edge\">\n<title>3&#45;&#45;7</title>\n<path fill=\"none\" stroke=\"#0000ff\" d=\"M354.6737,-59.1831C360.4209,-91.3676 372.3183,-157.9941 378.0302,-189.9812\"/>\n</g>\n<!-- 4&#45;&#45;7 -->\n<g id=\"edge7\" class=\"edge\">\n<title>4&#45;&#45;7</title>\n<path fill=\"none\" stroke=\"#00ff00\" d=\"M466.2628,-258.9404C450.3771,-249.4022 428.0799,-236.0143 410.3029,-225.3406\"/>\n<polygon fill=\"#00ff00\" stroke=\"#00ff00\" points=\"411.8517,-222.1881 401.4767,-220.0411 408.2483,-228.1894 411.8517,-222.1881\"/>\n</g>\n<!-- 5&#45;&#45;2 -->\n<g id=\"edge2\" class=\"edge\">\n<title>5&#45;&#45;2</title>\n<path fill=\"none\" stroke=\"#00ff00\" d=\"M35.6068,-171.4684C49.8805,-199.8277 78.5522,-256.7932 95.4857,-290.4369\"/>\n<polygon fill=\"#00ff00\" stroke=\"#00ff00\" points=\"92.5098,-292.3095 100.132,-299.6683 98.7625,-289.1624 92.5098,-292.3095\"/>\n</g>\n<!-- 6&#45;&#45;4 -->\n<g id=\"edge4\" class=\"edge\">\n<title>6&#45;&#45;4</title>\n<path fill=\"none\" stroke=\"#00ff00\" d=\"M332.6629,-329.9798C363.6912,-318.1171 418.4112,-297.1966 453.5529,-283.7613\"/>\n<polygon fill=\"#00ff00\" stroke=\"#00ff00\" points=\"454.8188,-287.0245 462.9096,-280.1841 452.319,-280.486 454.8188,-287.0245\"/>\n</g>\n<!-- 6&#45;&#45;7 -->\n<g id=\"edge10\" class=\"edge\">\n<title>6&#45;&#45;7</title>\n<path fill=\"none\" stroke=\"#0000ff\" d=\"M318.5249,-321.8502C332.3489,-296.7235 357.9692,-250.1559 371.7945,-225.0268\"/>\n</g>\n</g>\n</svg>\n"
          },
          "metadata": {},
          "execution_count": 71
        }
      ]
    }
  ]
}